{
 "cells": [
  {
   "cell_type": "markdown",
   "id": "193d505a-ef0b-454b-bf18-4541ccc51a26",
   "metadata": {},
   "source": [
    "# Data Science Tools and Ecosystem"
   ]
  },
  {
   "cell_type": "markdown",
   "id": "fc1c79ff-82ea-4fc2-9ba9-492a3277ad71",
   "metadata": {},
   "source": [
    "In this notebook, Data Science Tools and Ecosystem are summarized.\n",
    "\n"
   ]
  },
  {
   "cell_type": "markdown",
   "id": "e047bf1e-a757-4a6c-aa0d-a5dbb8c908e3",
   "metadata": {},
   "source": [
    "__Objectives:__\n",
    "- List popular languages for Data Science.\n",
    "\n",
    "\n",
    "\n",
    "- Demonstrate arithmetic expression evaluation in Python.\n",
    "\n",
    "\n",
    "\n",
    "- Create and format tables in Markdown.\n",
    "\n",
    "\n",
    "- Build ordered and unordered lists in Markdown."
   ]
  },
  {
   "cell_type": "markdown",
   "id": "5adb7efc-bb58-4957-be00-5cc6844e153b",
   "metadata": {},
   "source": [
    " - DS Lan\n",
    "   1. Python\n",
    "   2. Java\n",
    "   3. Julia"
   ]
  },
  {
   "cell_type": "markdown",
   "id": "85b786ff-c4fd-42ad-ade0-7b8cc19b024d",
   "metadata": {},
   "source": [
    " - DS Libraries\n",
    "   1. Numpy\n",
    "   2. Pandas\n",
    "   3. Scikit-learn"
   ]
  },
  {
   "cell_type": "markdown",
   "id": "9802e733-5b53-43f0-962d-e86d86588dac",
   "metadata": {},
   "source": [
    "| Data Science Tools |\n",
    "| ------------------ |\n",
    "| Jupyter Notebook   |\n",
    "| RStudio            |\n",
    "| Apache Zeppelin    |"
   ]
  },
  {
   "cell_type": "markdown",
   "id": "c6d50162-cf91-4c6a-89b2-c3e99a0a92db",
   "metadata": {},
   "source": [
    "### Below are a few examples of evaluating arithmetic expressions in Python"
   ]
  },
  {
   "cell_type": "code",
   "execution_count": 18,
   "id": "edd19042-c39b-45e6-a96f-0a55ef959a06",
   "metadata": {},
   "outputs": [
    {
     "data": {
      "text/plain": [
       "5.0"
      ]
     },
     "execution_count": 18,
     "metadata": {},
     "output_type": "execute_result"
    }
   ],
   "source": [
    "2 + 3\n",
    "4 * 5\n",
    "10 / 2"
   ]
  },
  {
   "cell_type": "markdown",
   "id": "af118fe6-ad37-4ead-a849-7efe121cebfc",
   "metadata": {},
   "source": [
    "### This a simple arithmetic expression to mutiply then add integers"
   ]
  },
  {
   "cell_type": "code",
   "execution_count": 23,
   "id": "91bd43c2-9ab3-42dd-94c6-c48f2060b969",
   "metadata": {},
   "outputs": [
    {
     "data": {
      "text/plain": [
       "17"
      ]
     },
     "execution_count": 23,
     "metadata": {},
     "output_type": "execute_result"
    }
   ],
   "source": [
    "(3*4)+5"
   ]
  },
  {
   "cell_type": "markdown",
   "id": "6b4063c2-d7c4-461a-8994-5f52179d1dc7",
   "metadata": {},
   "source": [
    "### This a simple arithmetic expression to mutiply then add integers"
   ]
  },
  {
   "cell_type": "code",
   "execution_count": 33,
   "id": "4b573d92-fa09-466a-82c6-fe30f0c0699c",
   "metadata": {},
   "outputs": [
    {
     "data": {
      "text/plain": [
       "3.3333333333333335"
      ]
     },
     "execution_count": 33,
     "metadata": {},
     "output_type": "execute_result"
    }
   ],
   "source": [
    "(200 / 60)"
   ]
  },
  {
   "cell_type": "markdown",
   "id": "c66cbf56-f002-4664-aeb5-d98a1c6f3bbc",
   "metadata": {},
   "source": [
    "## Autor: Rodrigo B"
   ]
  },
  {
   "cell_type": "code",
   "execution_count": null,
   "id": "6e16af12-041e-41a4-a410-85b123f21172",
   "metadata": {},
   "outputs": [],
   "source": []
  }
 ],
 "metadata": {
  "kernelspec": {
   "display_name": "Python 3 (ipykernel)",
   "language": "python",
   "name": "python3"
  },
  "language_info": {
   "codemirror_mode": {
    "name": "ipython",
    "version": 3
   },
   "file_extension": ".py",
   "mimetype": "text/x-python",
   "name": "python",
   "nbconvert_exporter": "python",
   "pygments_lexer": "ipython3",
   "version": "3.12.4"
  }
 },
 "nbformat": 4,
 "nbformat_minor": 5
}
